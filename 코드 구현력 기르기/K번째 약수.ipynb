{
 "cells": [
  {
   "cell_type": "markdown",
   "id": "blind-dress",
   "metadata": {},
   "source": [
    "# K번째 약수\n",
    "\n",
    "어떤 자연수 p와 q가 있을 때, 만일 p를 q로 나누었을 때 나머지가 0이면 q는 p의 약수이다.<br>\n",
    "6을 예로 들면<br>\n",
    "6 ÷ 1 = 6 … 0<br>\n",
    "6 ÷ 2 = 3 … 0<br>\n",
    "6 ÷ 3 = 2 … 0<br>\n",
    "6 ÷ 4 = 1 … 2<br>\n",
    "6 ÷ 5 = 1 … 1<br>\n",
    "6 ÷ 6 = 1 … 0<br>\n",
    "그래서 6의 약수는 1, 2, 3, 6, 총 네 개이다.<br>\n",
    "두 개의 자연수 N과 K가 주어졌을 때, N의 약수들 중 K번째로 작은 수를 출력하는 프로그램을 작성하시오.\n",
    "\n",
    "▣ 입력설명<br>\n",
    "첫째 줄에 N과 K가 빈칸을 사이에 두고 주어진다. N은 1 이상 10,000 이하이다. K는 1 이상 N 이하이다.<br>\n",
    "\n",
    "▣ 출력설명<br>\n",
    "첫째 줄에 N의 약수들 중 K번째로 작은 수를 출력한다. 만일 N의 약수의 개수가 K개보다 적어서<br>\n",
    "K번째 약수가 존재하지 않을 경우에는 -1을 출력하시오.\n",
    "\n",
    "▣ 입력예제 1<br>\n",
    "6 3\n",
    "\n",
    "▣ 출력예제 1<br>\n",
    "3"
   ]
  },
  {
   "cell_type": "code",
   "execution_count": null,
   "id": "capital-shirt",
   "metadata": {},
   "outputs": [],
   "source": [
    "# 파일에서 값을 읽어옴.\n",
    "import sys\n",
    "sys.stdin = open(\"input.txt\",\"rt\")"
   ]
  },
  {
   "cell_type": "code",
   "execution_count": 11,
   "id": "conditional-spice",
   "metadata": {},
   "outputs": [
    {
     "name": "stdout",
     "output_type": "stream",
     "text": [
      "6 5\n",
      "-1\n"
     ]
    }
   ],
   "source": [
    "N, K = map(int, input().split())\n",
    "count = 0\n",
    "answer = 0\n",
    "for n in range(1, N+1):\n",
    "    if N % n == 0:\n",
    "        count += 1\n",
    "    if count == K:\n",
    "        answer = n\n",
    "        break\n",
    "\n",
    "else: # 위 for문이 약수를 못 찾고 정상적으로 끝났으면 else 실행\n",
    "    answer = -1\n",
    "    \n",
    "print(answer)\n",
    "        "
   ]
  }
 ],
 "metadata": {
  "kernelspec": {
   "display_name": "Python 3",
   "language": "python",
   "name": "python3"
  },
  "language_info": {
   "codemirror_mode": {
    "name": "ipython",
    "version": 3
   },
   "file_extension": ".py",
   "mimetype": "text/x-python",
   "name": "python",
   "nbconvert_exporter": "python",
   "pygments_lexer": "ipython3",
   "version": "3.8.5"
  }
 },
 "nbformat": 4,
 "nbformat_minor": 5
}
