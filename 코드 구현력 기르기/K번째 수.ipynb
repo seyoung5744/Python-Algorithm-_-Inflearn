{
 "cells": [
  {
   "cell_type": "markdown",
   "id": "alleged-conducting",
   "metadata": {},
   "source": [
    "# K번째 수\n",
    "N개의 숫자로 이루어진 숫자열이 주어지면 해당 숫자열중에서 s번째부터 e번째 까지의 수를<br>\n",
    "오름 차순 정렬했을 때 k번째로 나타나는 숫자를 출력하는 프로그램을 작성하세요.<br>\n",
    "\n",
    "▣ 입력설명<br>\n",
    "첫 번째 줄에 테스트 케이스 T(1<=T<=10)이 주어집니다.<br>\n",
    "각 케이스별<br>\n",
    "첫 번째 줄은 자연수 N(5<=N<=500), s, e, k가 차례로 주어진다.<br>\n",
    "두 번째 줄에 N개의 숫자가 차례로 주어진다.<br>\n",
    "\n",
    "▣ 출력설명<br>\n",
    "각 케이스별 k번째 수를 아래 출력예제와 같이 출력하세요.<br>\n",
    "\n",
    "▣ 입력예제 1<br>\n",
    "2<br>\n",
    "6 2 5 3<br>\n",
    "5 2 7 3 8 9<br>\n",
    "15 3 10 3<br>\n",
    "4 15 8 16 6 6 17 3 10 11 18 7 14 7 15<br>\n",
    "\n",
    "▣ 출력예제 1<br>\n",
    "#1 7<br>\n",
    "#2 6<br>\n",
    "\n",
    "입력예제1 해설 :<br>\n",
    "case 1 : 2 7 3 8의 숫자 중 오름차순 정렬 했을 때 3번째 숫자는 7이다.<br>\n",
    "case 2 : 8 16 6 6 17 3 10 11의 숫자 중 오름차순 정렬 했을 때 3번째 숫자는 6이다."
   ]
  },
  {
   "cell_type": "code",
   "execution_count": 9,
   "id": "dramatic-brother",
   "metadata": {},
   "outputs": [
    {
     "name": "stdout",
     "output_type": "stream",
     "text": [
      "2\n",
      "6 2 5 3\n",
      "5 2 7 3 8 9\n",
      "15 3 10 3\n",
      "4 15 8 16 6 6 17 3 10 11 18 7 14 7 15\n",
      "#1 7\n",
      "#2 6\n"
     ]
    }
   ],
   "source": [
    "case = int(input())\n",
    "\n",
    "for i in range(case):\n",
    "    n, s, e, k = map(int, input().split())\n",
    "    nums = list(map(int, input().split()))\n",
    "\n",
    "    nums = sorted(nums[s-1:e])\n",
    "    print(\"#%d %d\" %(i+1,nums[k-1]))"
   ]
  }
 ],
 "metadata": {
  "kernelspec": {
   "display_name": "Python 3",
   "language": "python",
   "name": "python3"
  },
  "language_info": {
   "codemirror_mode": {
    "name": "ipython",
    "version": 3
   },
   "file_extension": ".py",
   "mimetype": "text/x-python",
   "name": "python",
   "nbconvert_exporter": "python",
   "pygments_lexer": "ipython3",
   "version": "3.8.5"
  }
 },
 "nbformat": 4,
 "nbformat_minor": 5
}
